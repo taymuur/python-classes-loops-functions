{
 "cells": [
  {
   "cell_type": "markdown",
   "metadata": {},
   "source": [
    "## args , *kargs "
   ]
  },
  {
   "cell_type": "code",
   "execution_count": 1,
   "metadata": {},
   "outputs": [],
   "source": [
    "def cars(model, make, *specs):\n",
    "    print(model, make)\n",
    "    print(specs)"
   ]
  },
  {
   "cell_type": "code",
   "execution_count": 3,
   "metadata": {},
   "outputs": [
    {
     "name": "stdout",
     "output_type": "stream",
     "text": [
      "2010 toyota corolla\n",
      "('alloyrim', 'tape', 'power windows')\n"
     ]
    }
   ],
   "source": [
    "cars(2010, 'toyota corolla', 'alloyrim', 'tape', 'power windows')\n",
    "\n",
    "#specs is printed as a tuple"
   ]
  },
  {
   "cell_type": "code",
   "execution_count": 4,
   "metadata": {},
   "outputs": [
    {
     "name": "stdout",
     "output_type": "stream",
     "text": [
      "2011 toyota corolla\n",
      "('automatic',)\n"
     ]
    }
   ],
   "source": [
    "cars(2011, 'toyota corolla', 'automatic')\n",
    "\n",
    "#if a perimeter is defined with an asterick, the system knows multiple arguments can come"
   ]
  },
  {
   "cell_type": "code",
   "execution_count": 5,
   "metadata": {},
   "outputs": [
    {
     "name": "stdout",
     "output_type": "stream",
     "text": [
      "2018 honda civic\n",
      "(['alloyrim', 'tape', 'power windows'],)\n"
     ]
    }
   ],
   "source": [
    "cars(2018, 'honda civic', ['alloyrim', 'tape', 'power windows'])"
   ]
  },
  {
   "cell_type": "code",
   "execution_count": 5,
   "metadata": {},
   "outputs": [],
   "source": [
    "def pizza_order(name, size, flavor, *toppings):\n",
    "    print('Order is given by: '+ name)\n",
    "    print('Soze of pizza is:' + size)\n",
    "    print('Flavor of pizza is: ' + flavor)\n",
    "    print('Toppings are:')\n",
    "    for topping in toppings:\n",
    "        print(topping)"
   ]
  },
  {
   "cell_type": "code",
   "execution_count": 6,
   "metadata": {},
   "outputs": [
    {
     "name": "stdout",
     "output_type": "stream",
     "text": [
      "Order is given by: Taimur\n",
      "Soze of pizza is:large\n",
      "Flavor of pizza is: Afghani\n",
      "Toppings are:\n",
      "Extra cheese\n",
      "Spices\n",
      "Olives\n"
     ]
    }
   ],
   "source": [
    "pizza_order('Taimur', 'large', 'Afghani', 'Extra cheese', 'Spices', 'Olives')"
   ]
  },
  {
   "cell_type": "code",
   "execution_count": 14,
   "metadata": {},
   "outputs": [],
   "source": [
    "def person_info(firstname, lastname, **about):\n",
    "    print(firstname, lastname)\n",
    "    print(about)\n",
    "    "
   ]
  },
  {
   "cell_type": "code",
   "execution_count": 15,
   "metadata": {},
   "outputs": [
    {
     "name": "stdout",
     "output_type": "stream",
     "text": [
      "Taimur Shahzad\n",
      "{'age': 19, 'address': 'Karachi'}\n"
     ]
    }
   ],
   "source": [
    "person_info('Taimur', 'Shahzad', age = 19, address = 'Karachi')\n",
    "\n",
    "#the argument with multiple values is printed as a dictionary"
   ]
  },
  {
   "cell_type": "code",
   "execution_count": 18,
   "metadata": {},
   "outputs": [
    {
     "name": "stdout",
     "output_type": "stream",
     "text": [
      "Tim John\n",
      "{'age': 21, 'number': [2344, 54839], 'address': 'London'}\n"
     ]
    }
   ],
   "source": [
    "person_info('Tim', 'John', age = 21, number = [2344, 54839], address = 'London')"
   ]
  },
  {
   "cell_type": "code",
   "execution_count": 22,
   "metadata": {},
   "outputs": [],
   "source": [
    "def add():\n",
    "    x = 5 + 9\n",
    "    return x"
   ]
  },
  {
   "cell_type": "code",
   "execution_count": 23,
   "metadata": {},
   "outputs": [],
   "source": [
    "def sub():\n",
    "    y = 3 * 2\n",
    "    return y\n"
   ]
  },
  {
   "cell_type": "code",
   "execution_count": 25,
   "metadata": {},
   "outputs": [],
   "source": [
    "answer = add() + sub()"
   ]
  },
  {
   "cell_type": "code",
   "execution_count": 26,
   "metadata": {},
   "outputs": [
    {
     "data": {
      "text/plain": [
       "20"
      ]
     },
     "execution_count": 26,
     "metadata": {},
     "output_type": "execute_result"
    }
   ],
   "source": [
    "answer\n"
   ]
  },
  {
   "cell_type": "code",
   "execution_count": 34,
   "metadata": {},
   "outputs": [],
   "source": [
    "def salary(basic, commission):\n",
    "    total = basic + commission\n",
    "    print(f' Your salary is : {total}')"
   ]
  },
  {
   "cell_type": "code",
   "execution_count": 35,
   "metadata": {},
   "outputs": [],
   "source": [
    "def commission_calculator(sales):\n",
    "    if sales >= 100000:\n",
    "        percentage = 30\n",
    "    elif sales >= 50000:\n",
    "        percentage = 20\n",
    "    elif sales >= 30000:\n",
    "        percentage = 10\n",
    "    elif sales >= 10000:\n",
    "        percentage = 5\n",
    "    else:\n",
    "        percentage = 0\n",
    "    commission = sales/100*percentage\n",
    "    return commission"
   ]
  },
  {
   "cell_type": "code",
   "execution_count": 36,
   "metadata": {},
   "outputs": [
    {
     "name": "stdout",
     "output_type": "stream",
     "text": [
      "Please enter your basic income: 3333\n",
      "Please enter your sales: 11111\n",
      " Your salary is : 3888.55\n"
     ]
    }
   ],
   "source": [
    "basic = int(input('Please enter your basic income: '))\n",
    "sales = int(input('Please enter your sales: '))\n",
    "\n",
    "salary(basic, commission_calculator(sales))"
   ]
  },
  {
   "cell_type": "markdown",
   "metadata": {},
   "source": [
    "### local & global variables"
   ]
  },
  {
   "cell_type": "code",
   "execution_count": 37,
   "metadata": {},
   "outputs": [],
   "source": [
    "#variables created inside the functions body are local variables - they can not be accessed outside the function"
   ]
  },
  {
   "cell_type": "code",
   "execution_count": 42,
   "metadata": {},
   "outputs": [
    {
     "name": "stdout",
     "output_type": "stream",
     "text": [
      "apple\n",
      "orange\n",
      "100\n"
     ]
    }
   ],
   "source": [
    "fruit = 'apple' #global variable\n",
    "def alocal():\n",
    "    a = 100 #local variable\n",
    "    fruit = 'orange'\n",
    "    print(fruit)\n",
    "    print(a)\n",
    "    \n",
    "print(fruit) #if a \n",
    "alocal()"
   ]
  },
  {
   "cell_type": "code",
   "execution_count": 40,
   "metadata": {},
   "outputs": [
    {
     "name": "stdout",
     "output_type": "stream",
     "text": [
      "orange\n",
      "100\n"
     ]
    }
   ],
   "source": [
    "#accessing a local variable outside the function of body"
   ]
  },
  {
   "cell_type": "code",
   "execution_count": 46,
   "metadata": {},
   "outputs": [
    {
     "name": "stdout",
     "output_type": "stream",
     "text": [
      "apple\n",
      "orange\n",
      "100\n"
     ]
    }
   ],
   "source": [
    "fruit = 'apple' #global variable\n",
    "def alocal():\n",
    "    global a\n",
    "    a = 100 #local variable\n",
    "    \n",
    "    global fruit\n",
    "    fruit = 'orange'\n",
    "    print(fruit)\n",
    "    print(a)\n",
    "    \n",
    "print(fruit) #if a local & global variable exists with same name, they are both stored as different variables\n",
    "alocal()"
   ]
  },
  {
   "cell_type": "code",
   "execution_count": 44,
   "metadata": {},
   "outputs": [
    {
     "data": {
      "text/plain": [
       "100"
      ]
     },
     "execution_count": 44,
     "metadata": {},
     "output_type": "execute_result"
    }
   ],
   "source": [
    "a"
   ]
  },
  {
   "cell_type": "code",
   "execution_count": 47,
   "metadata": {},
   "outputs": [
    {
     "name": "stdout",
     "output_type": "stream",
     "text": [
      "orange\n"
     ]
    }
   ],
   "source": []
  },
  {
   "cell_type": "code",
   "execution_count": null,
   "metadata": {},
   "outputs": [],
   "source": []
  }
 ],
 "metadata": {
  "kernelspec": {
   "display_name": "Python 3",
   "language": "python",
   "name": "python3"
  }
 },
 "nbformat": 4,
 "nbformat_minor": 2
}
