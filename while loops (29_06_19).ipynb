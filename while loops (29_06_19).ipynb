{
 "cells": [
  {
   "cell_type": "markdown",
   "metadata": {},
   "source": [
    "## while loops"
   ]
  },
  {
   "cell_type": "code",
   "execution_count": 1,
   "metadata": {},
   "outputs": [
    {
     "name": "stdout",
     "output_type": "stream",
     "text": [
      "0\n",
      "1\n",
      "2\n",
      "3\n",
      "4\n",
      "5\n",
      "6\n",
      "7\n",
      "8\n",
      "9\n"
     ]
    }
   ],
   "source": [
    "#for loops:\n",
    "for a in range(10):\n",
    "    print(a)"
   ]
  },
  {
   "cell_type": "code",
   "execution_count": 3,
   "metadata": {},
   "outputs": [
    {
     "name": "stdout",
     "output_type": "stream",
     "text": [
      "0\n",
      "1\n",
      "2\n",
      "3\n",
      "4\n",
      "5\n",
      "6\n",
      "7\n",
      "8\n",
      "9\n"
     ]
    }
   ],
   "source": [
    "#while loops:\n",
    "a=0\n",
    "while a < 10:\n",
    "    print(a)\n",
    "    a +=1"
   ]
  },
  {
   "cell_type": "code",
   "execution_count": 5,
   "metadata": {},
   "outputs": [
    {
     "name": "stdout",
     "output_type": "stream",
     "text": [
      "0\n",
      "2\n",
      "4\n",
      "6\n",
      "8\n",
      "0\n",
      "2\n",
      "4\n",
      "6\n",
      "8\n"
     ]
    }
   ],
   "source": [
    "#for loops:\n",
    "for a in range(0, 10, 2):\n",
    "    print(a)\n",
    "\n",
    "#while loops:\n",
    "a=0\n",
    "while a < 10:\n",
    "    print(a)\n",
    "    a +=2"
   ]
  },
  {
   "cell_type": "code",
   "execution_count": 6,
   "metadata": {},
   "outputs": [
    {
     "name": "stdout",
     "output_type": "stream",
     "text": [
      "Enter your name: aaa\n",
      "aaa\n",
      "Enter your name: bbb\n",
      "bbb\n",
      "Enter your name: ccc\n",
      "ccc\n",
      "Enter your name: ddd\n",
      "ddd\n",
      "Enter your name: eee\n",
      "eee\n"
     ]
    }
   ],
   "source": [
    "for a in range(5):\n",
    "    name = input('Enter your name: ')\n",
    "    print(name)"
   ]
  },
  {
   "cell_type": "code",
   "execution_count": 8,
   "metadata": {},
   "outputs": [
    {
     "name": "stdout",
     "output_type": "stream",
     "text": [
      "Enter your name: aaa\n",
      "aaa\n",
      "Enter your name: bbb\n",
      "bbb\n",
      "Enter your name: ccc\n",
      "ccc\n",
      "Enter your name: ddd\n",
      "ddd\n",
      "Enter your name: eee\n",
      "eee\n"
     ]
    }
   ],
   "source": [
    "a = 0\n",
    "while a < 5:\n",
    "    name = input('Enter your name: ')\n",
    "    print(name)\n",
    "    a +=1"
   ]
  },
  {
   "cell_type": "code",
   "execution_count": 10,
   "metadata": {},
   "outputs": [
    {
     "name": "stdout",
     "output_type": "stream",
     "text": [
      "Please enter name or type exit to quit: aaa\n",
      "aaa\n",
      "Please enter name or type exit to quit: abc\n",
      "abc\n",
      "Please enter name or type exit to quit: exit\n"
     ]
    }
   ],
   "source": [
    "flag = True\n",
    "while flag:\n",
    "    name = input('Please enter name or type exit to quit: ')\n",
    "    if name=='exit':\n",
    "        flag = False\n",
    "    else:\n",
    "        print(name)\n",
    "    "
   ]
  },
  {
   "cell_type": "code",
   "execution_count": 6,
   "metadata": {},
   "outputs": [],
   "source": [
    "def pizza_order(name, size, flavor, *toppings):\n",
    "    print('Order is given by: '+ name)\n",
    "    print('Soze of pizza is:' + size)\n",
    "    print('Flavor of pizza is: ' + flavor)\n",
    "    print('Toppings are:')\n",
    "    flag = True\n",
    "    while flag:\n",
    "        toppings = input('Please enter toppings or type quit to end: ')\n",
    "        if toppings == 'quit':\n",
    "            flag = False\n",
    "        else:\n",
    "            print(f'{toppings} added to your pizza')\n",
    "       "
   ]
  },
  {
   "cell_type": "code",
   "execution_count": 7,
   "metadata": {},
   "outputs": [
    {
     "name": "stdout",
     "output_type": "stream",
     "text": [
      "Order is given by: Taimur\n",
      "Soze of pizza is:large\n",
      "Flavor of pizza is: Afghani\n",
      "Toppings are:\n",
      "Please enter toppings or type quit to end: extra cheese\n",
      "extra cheese added to your pizza\n",
      "Please enter toppings or type quit to end: mashrooms\n",
      "mashrooms added to your pizza\n",
      "Please enter toppings or type quit to end: quit\n"
     ]
    }
   ],
   "source": [
    "pizza_order('Taimur', 'large', 'Afghani', 'Extra cheese', 'Spices', 'Olives')"
   ]
  },
  {
   "cell_type": "code",
   "execution_count": null,
   "metadata": {},
   "outputs": [],
   "source": []
  }
 ],
 "metadata": {
  "kernelspec": {
   "display_name": "Python 3",
   "language": "python",
   "name": "python3"
  },
  "language_info": {
   "codemirror_mode": {
    "name": "ipython",
    "version": 3
   },
   "file_extension": ".py",
   "mimetype": "text/x-python",
   "name": "python",
   "nbconvert_exporter": "python",
   "pygments_lexer": "ipython3",
   "version": "3.7.3"
  }
 },
 "nbformat": 4,
 "nbformat_minor": 2
}
